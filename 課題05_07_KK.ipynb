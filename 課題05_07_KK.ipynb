{
  "nbformat": 4,
  "nbformat_minor": 0,
  "metadata": {
    "colab": {
      "provenance": [],
      "gpuType": "T4",
      "include_colab_link": true
    },
    "kernelspec": {
      "name": "python3",
      "display_name": "Python 3"
    },
    "language_info": {
      "name": "python"
    }
  },
  "cells": [
    {
      "cell_type": "markdown",
      "metadata": {
        "id": "view-in-github",
        "colab_type": "text"
      },
      "source": [
        "<a href=\"https://colab.research.google.com/github/KB2Maker/Portfolio/blob/main/%E8%AA%B2%E9%A1%8C05_07_KK.ipynb\" target=\"_parent\"><img src=\"https://colab.research.google.com/assets/colab-badge.svg\" alt=\"Open In Colab\"/></a>"
      ]
    },
    {
      "cell_type": "markdown",
      "source": [
        "# **プログラムの名称**\n",
        "商品比較プログラム\n",
        "\n",
        "## **概要**\n",
        "このプログラムは、複数の商品の値段と容量から、\n",
        "どれが一番お得かを算出するプログラムです。\n",
        "\n",
        "## **操作方法**\n",
        "説明が出てくるので、それに従って入力するだけです。\n",
        "\n",
        "## **制作者のコメント**\n",
        "もう少し凝ったものを作成したかったですが、\n",
        "\n",
        "更なるアイデアが出てきませんでした。\n",
        "\n",
        "もう少し柔軟な発想を身に着けるべきだと感じました。  \n",
        "\n",
        "## **作成時間**\n",
        "作成時間：**約2時間**\n",
        "\n",
        "必要なコマンドが簡単な分、すぐに完成しました。"
      ],
      "metadata": {
        "id": "BNb7I1FCMlFJ"
      }
    },
    {
      "cell_type": "code",
      "source": [
        "#初期化\n",
        "%reset -f\n",
        "#計算結果のリストを作成\n",
        "total=[]\n",
        "#比較する商品の数を受け取る\n",
        "com_quantity=int(input(\"比較する商品の数を入力してください。>>\"))\n",
        "#商品の数だけ処理を繰り返す\n",
        "for i in range(com_quantity):\n",
        "  #値段と容量を受け取る\n",
        "  pur_value=int(input(f\"{i+1}個めの値段を入力してください。>>\"))\n",
        "  pur_capacity=int(input(f\"{i+1}個めの容量を入力してください。>>\"))\n",
        "  #値段と容量から1円当たりの容量を算出する\n",
        "  profit=(pur_capacity/pur_value)\n",
        "  #計算結果をリストに収納する\n",
        "  total.append(profit)\n",
        "#1円当たりの容量が最も多い商品のインデックスを取得する\n",
        "max_value=max(total)\n",
        "max_index=total.index(max_value)\n",
        "print(\"～～～～～～～～～～～～～～～～～～～～～～～\")\n",
        "#結果を表示する\n",
        "print(f\"1番お得なのは{max_index+1}個めです。\")"
      ],
      "metadata": {
        "colab": {
          "base_uri": "https://localhost:8080/"
        },
        "id": "wsIDBe6cEESQ",
        "outputId": "a6c5788f-3683-458b-a1c8-bf723a3149b4"
      },
      "execution_count": 1,
      "outputs": [
        {
          "output_type": "stream",
          "name": "stdout",
          "text": [
            "比較する商品の数を入力してください。>>3\n",
            "1個めの値段を入力してください。>>100\n",
            "1個めの容量を入力してください。>>30\n",
            "2個めの値段を入力してください。>>300\n",
            "2個めの容量を入力してください。>>10\n",
            "3個めの値段を入力してください。>>200\n",
            "3個めの容量を入力してください。>>50\n",
            "～～～～～～～～～～～～～～～～～～～～～～～\n",
            "1番お得なのは1個めです。\n"
          ]
        }
      ]
    }
  ]
}