{
 "cells": [
  {
   "cell_type": "code",
   "execution_count": 2,
   "metadata": {},
   "outputs": [
    {
     "name": "stdout",
     "output_type": "stream",
     "text": [
      "data/download/ に char-chip-item.png を保存しました\n"
     ]
    }
   ],
   "source": [
    "%reset -f\n",
    "import os\n",
    "import requests\n",
    "\n",
    "# フォルダが存在しなければ作成\n",
    "dir = 'data/download/'\n",
    "if not os.path.isdir(dir):\n",
    "  os.makedirs(dir)\n",
    "\n",
    "fn = 'char-chip-item.png'\n",
    "url = 'http://dispell.net/img/itemicon130807.png'\n",
    "res = requests.get(url)\n",
    "\n",
    "if res.status_code != 200:\n",
    "  raise Exception(f'ファイル {url} の取得に失敗。強制終了します。Code:{res.status_code}')\n",
    "else :\n",
    "  with open(f'{dir}/{fn}','wb') as file: \n",
    "    file.write(res.content)\n",
    "  print(f'{dir} に {fn} を保存しました')"
   ]
  },
  {
   "cell_type": "code",
   "execution_count": 8,
   "metadata": {},
   "outputs": [
    {
     "name": "stdout",
     "output_type": "stream",
     "text": [
      "raw.shape => (192, 384, 4)\n",
      "data/img/point.png に画像を出力しました。\n"
     ]
    },
    {
     "data": {
      "image/png": "[encoded data removed]",
      "text/plain": [
       "<IPython.core.display.Image object>"
      ]
     },
     "execution_count": 8,
     "metadata": {},
     "output_type": "execute_result"
    }
   ],
   "source": [
    "%reset -f\n",
    "import os\n",
    "import cv2\n",
    "import numpy as np\n",
    "from IPython.display import Image\n",
    "\n",
    "# 入力画像のパス設定 (Path設定)\n",
    "input_path = 'data/download/' + 'char-chip-item.png'\n",
    "\n",
    "# 出力画像のパス設定 (Path設定)\n",
    "output_fn = 'point.png'\n",
    "output_dir = 'data/img/'\n",
    "output_path = output_dir + output_fn\n",
    "\n",
    "# 出力フォルダが存在しなければ作成\n",
    "if not os.path.isdir(output_dir):\n",
    "  os.makedirs(output_dir)\n",
    "\n",
    "# 画像読込み、切り出し範囲の設定\n",
    "img = cv2.imread(input_path,cv2.IMREAD_UNCHANGED) # アルファチャンネルも読み込む\n",
    "print(f'raw.shape => {img.shape}')\n",
    "bw = 24  # BaseWidth \n",
    "bh = 24  # BaseHeight\n",
    "offset_w = bw*0\n",
    "offset_h = bh*7\n",
    "\n",
    "# 画像の切り出しと保存処理\n",
    "img = img[offset_h:offset_h+bh*1, offset_w:offset_w+bw*1]\n",
    "cv2.imwrite(output_path,img)\n",
    "print(f'{output_path} に画像を出力しました。')\n",
    "\n",
    "# 出力画像の確認\n",
    "Image(open(output_path,'rb').read())"
   ]
  }
 ],
 "metadata": {
  "kernelspec": {
   "display_name": ".venv",
   "language": "python",
   "name": "python3"
  },
  "language_info": {
   "codemirror_mode": {
    "name": "ipython",
    "version": 3
   },
   "file_extension": ".py",
   "mimetype": "text/x-python",
   "name": "python",
   "nbconvert_exporter": "python",
   "pygments_lexer": "ipython3",
   "version": "3.11.4"
  }
 },
 "nbformat": 4,
 "nbformat_minor": 2
}
